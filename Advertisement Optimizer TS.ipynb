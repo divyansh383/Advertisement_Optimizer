{
 "cells": [
  {
   "cell_type": "code",
   "execution_count": 27,
   "id": "ea046324",
   "metadata": {},
   "outputs": [],
   "source": [
    "import numpy as np\n",
    "import pandas as pd\n",
    "import matplotlib.pyplot as plt"
   ]
  },
  {
   "cell_type": "code",
   "execution_count": 28,
   "id": "ccde1dae",
   "metadata": {},
   "outputs": [
    {
     "data": {
      "text/html": [
       "<div>\n",
       "<style scoped>\n",
       "    .dataframe tbody tr th:only-of-type {\n",
       "        vertical-align: middle;\n",
       "    }\n",
       "\n",
       "    .dataframe tbody tr th {\n",
       "        vertical-align: top;\n",
       "    }\n",
       "\n",
       "    .dataframe thead th {\n",
       "        text-align: right;\n",
       "    }\n",
       "</style>\n",
       "<table border=\"1\" class=\"dataframe\">\n",
       "  <thead>\n",
       "    <tr style=\"text-align: right;\">\n",
       "      <th></th>\n",
       "      <th>Ad 1</th>\n",
       "      <th>Ad 2</th>\n",
       "      <th>Ad 3</th>\n",
       "      <th>Ad 4</th>\n",
       "      <th>Ad 5</th>\n",
       "      <th>Ad 6</th>\n",
       "      <th>Ad 7</th>\n",
       "      <th>Ad 8</th>\n",
       "      <th>Ad 9</th>\n",
       "      <th>Ad 10</th>\n",
       "    </tr>\n",
       "  </thead>\n",
       "  <tbody>\n",
       "    <tr>\n",
       "      <th>0</th>\n",
       "      <td>1</td>\n",
       "      <td>0</td>\n",
       "      <td>0</td>\n",
       "      <td>0</td>\n",
       "      <td>1</td>\n",
       "      <td>0</td>\n",
       "      <td>0</td>\n",
       "      <td>0</td>\n",
       "      <td>1</td>\n",
       "      <td>0</td>\n",
       "    </tr>\n",
       "    <tr>\n",
       "      <th>1</th>\n",
       "      <td>0</td>\n",
       "      <td>0</td>\n",
       "      <td>0</td>\n",
       "      <td>0</td>\n",
       "      <td>0</td>\n",
       "      <td>0</td>\n",
       "      <td>0</td>\n",
       "      <td>0</td>\n",
       "      <td>1</td>\n",
       "      <td>0</td>\n",
       "    </tr>\n",
       "    <tr>\n",
       "      <th>2</th>\n",
       "      <td>0</td>\n",
       "      <td>0</td>\n",
       "      <td>0</td>\n",
       "      <td>0</td>\n",
       "      <td>0</td>\n",
       "      <td>0</td>\n",
       "      <td>0</td>\n",
       "      <td>0</td>\n",
       "      <td>0</td>\n",
       "      <td>0</td>\n",
       "    </tr>\n",
       "    <tr>\n",
       "      <th>3</th>\n",
       "      <td>0</td>\n",
       "      <td>1</td>\n",
       "      <td>0</td>\n",
       "      <td>0</td>\n",
       "      <td>0</td>\n",
       "      <td>0</td>\n",
       "      <td>0</td>\n",
       "      <td>1</td>\n",
       "      <td>0</td>\n",
       "      <td>0</td>\n",
       "    </tr>\n",
       "    <tr>\n",
       "      <th>4</th>\n",
       "      <td>0</td>\n",
       "      <td>0</td>\n",
       "      <td>0</td>\n",
       "      <td>0</td>\n",
       "      <td>0</td>\n",
       "      <td>0</td>\n",
       "      <td>0</td>\n",
       "      <td>0</td>\n",
       "      <td>0</td>\n",
       "      <td>0</td>\n",
       "    </tr>\n",
       "  </tbody>\n",
       "</table>\n",
       "</div>"
      ],
      "text/plain": [
       "   Ad 1  Ad 2  Ad 3  Ad 4  Ad 5  Ad 6  Ad 7  Ad 8  Ad 9  Ad 10\n",
       "0     1     0     0     0     1     0     0     0     1      0\n",
       "1     0     0     0     0     0     0     0     0     1      0\n",
       "2     0     0     0     0     0     0     0     0     0      0\n",
       "3     0     1     0     0     0     0     0     1     0      0\n",
       "4     0     0     0     0     0     0     0     0     0      0"
      ]
     },
     "execution_count": 28,
     "metadata": {},
     "output_type": "execute_result"
    }
   ],
   "source": [
    "data=pd.read_csv('Ads_CTR_Optimisation.csv')\n",
    "data.head()"
   ]
  },
  {
   "cell_type": "markdown",
   "id": "d2f4359c",
   "metadata": {},
   "source": [
    "## dummy data"
   ]
  },
  {
   "cell_type": "code",
   "execution_count": 22,
   "id": "7afb467a",
   "metadata": {},
   "outputs": [],
   "source": [
    "import random\n",
    "N=300; #10000\n",
    "ads=10;\n",
    "ads_selected=[];\n",
    "\n",
    "Ni_0=np.zeros(ads,dtype=int);\n",
    "Ni_1=np.zeros(ads,dtype=int);\n",
    "total_rewards=0;\n",
    "\n",
    "for round in range(N):\n",
    "    ad=0;\n",
    "    max_random=0; \n",
    "    \n",
    "    #gives the ad having the maxm random draw. selects a random\n",
    "    #datapoint withing the distribution range of all ads\n",
    "    for i in range(ads):\n",
    "        random_beta=random.betavariate(Ni_1[i]+1,Ni_0[i]+1);\n",
    "        # beta function takes two parameter m=no of success n= number of failures\n",
    "        #this function returns a random data point from the distribution\n",
    "        if(random_beta>max_random):\n",
    "            max_random=random_beta;\n",
    "            ad=i;\n",
    "    ads_selected.append(ad);\n",
    "    feedback=data.values[round,ad]\n",
    "    \n",
    "    #if the reward is 1 , m is increasing -> distribution moves towards 1\n",
    "    #if the reward is 0 , n is increasing -> distribution moves towards 0\n",
    "    if(feedback==1):\n",
    "        Ni_1[ad]+=1;\n",
    "    else:\n",
    "        Ni_0[ad]+=1;\n",
    "    total_rewards+=feedback;"
   ]
  },
  {
   "cell_type": "code",
   "execution_count": 29,
   "id": "de95f233",
   "metadata": {
    "scrolled": false
   },
   "outputs": [
    {
     "data": {
      "image/png": "[encoded data removed]",
      "text/plain": [
       "<Figure size 640x480 with 1 Axes>"
      ]
     },
     "metadata": {},
     "output_type": "display_data"
    }
   ],
   "source": [
    "plt.title('Histogram of Ads Selection');\n",
    "plt.xlabel('Ads');\n",
    "plt.ylabel('frequency of Selection');\n",
    "plt.xticks(np.arange(0,10));\n",
    "plt.hist(ads_selected,bins=10,edgecolor='white');\n",
    "plt.gca().set_xticklabels(np.arange(1, 11)) \n",
    "plt.show();\n",
    "\n",
    "#able to predict the ad with highest conversion rate after 300 rounds"
   ]
  },
  {
   "cell_type": "markdown",
   "id": "044b4b4c",
   "metadata": {},
   "source": [
    "## user input feedbacks"
   ]
  },
  {
   "cell_type": "code",
   "execution_count": 34,
   "id": "e2bbca0d",
   "metadata": {},
   "outputs": [
    {
     "name": "stdout",
     "output_type": "stream",
     "text": [
      "Round :1 : What is you feedback for ad 10 (0/1)0\n",
      "Total rewards after round 1: 0\n",
      "Round :2 : What is you feedback for ad 6 (0/1)1\n",
      "Total rewards after round 2: 0\n",
      "Round :3 : What is you feedback for ad 2 (0/1)1\n",
      "Total rewards after round 3: 1\n",
      "Round :4 : What is you feedback for ad 9 (0/1)1\n",
      "Total rewards after round 4: 2\n",
      "Round :5 : What is you feedback for ad 6 (0/1)1\n",
      "Total rewards after round 5: 3\n",
      "Round :6 : What is you feedback for ad 6 (0/1)1\n",
      "Total rewards after round 6: 4\n",
      "Round :7 : What is you feedback for ad 2 (0/1)1\n",
      "Total rewards after round 7: 5\n",
      "Round :8 : What is you feedback for ad 8 (0/1)1\n",
      "Total rewards after round 8: 6\n",
      "Round :9 : What is you feedback for ad 6 (0/1)0\n",
      "Total rewards after round 9: 7\n",
      "Round :10 : What is you feedback for ad 2 (0/1)0\n",
      "Total rewards after round 10: 7\n",
      "Round :11 : What is you feedback for ad 7 (0/1)0\n",
      "Total rewards after round 11: 7\n",
      "Round :12 : What is you feedback for ad 6 (0/1)00\n",
      "Total rewards after round 12: 7\n",
      "Round :13 : What is you feedback for ad 9 (0/1)0\n",
      "Total rewards after round 13: 7\n",
      "Round :14 : What is you feedback for ad 3 (0/1)1\n",
      "Total rewards after round 14: 7\n",
      "Round :15 : What is you feedback for ad 2 (0/1)1\n",
      "Total rewards after round 15: 8\n",
      "Round :16 : What is you feedback for ad 9 (0/1)1\n",
      "Total rewards after round 16: 9\n",
      "Round :17 : What is you feedback for ad 3 (0/1)1\n",
      "Total rewards after round 17: 10\n",
      "Round :18 : What is you feedback for ad 3 (0/1)\n"
     ]
    }
   ],
   "source": [
    "n=1000;  # total no of rounds=10000\n",
    "ads=int(10);\n",
    "Ni=np.zeros(ads,dtype=int);\n",
    "Ri=np.zeros(ads,dtype=int);\n",
    "ads_selected=[];\n",
    "total_rewards=0;\n",
    "threshold=n*0.02\n",
    "user_feedback=np.zeros(ads,dtype=int); #for each round\n",
    "#step 2\n",
    "import math\n",
    "for round in range(n):\n",
    "    #user selecting the ad\n",
    "    \n",
    "    ad=0;\n",
    "    maxUCB=0;\n",
    "    for i in range(ads):\n",
    "        if(Ni[i]>0):\n",
    "            avgReward=(Ri[i]/Ni[i]);\n",
    "            error=math.sqrt((3/2)*(math.log(round+1)/Ni[i]));\n",
    "            LCB=avgReward-error\n",
    "            UCB=avgReward+error\n",
    "        else:\n",
    "            UCB=1e400\n",
    "            \n",
    "        #step 3 \n",
    "        if(UCB>maxUCB):\n",
    "            maxUCB=UCB;\n",
    "            ad=i;\n",
    "            \n",
    "    #step4 \n",
    "    ads_selected.append(ad);\n",
    "    Ni[ad]+=1\n",
    "    # taking user input\n",
    "    #feedback=data.values[round,ad]\n",
    "    try:\n",
    "        feedback=int(input(f\"Round :{round+1} : What is you feedback for ad {ad+1} (0/1)\"))\n",
    "    except:\n",
    "        break\n",
    "    Ri[ad]+=feedback\n",
    "    total_rewards+=feedback  \n",
    "    print(f\"Total rewards after round {round + 1}: {total_rewards}\")\n",
    "\n",
    "    #step-5 \n",
    "    #stopping conditionn\n",
    "    if(Ni[np.argmax(Ni)]>threshold):\n",
    "        print(f\"The most clicked ad is ad {np.argmax(Ni) + 1}. Stopping after {round + 1} rounds.\")\n",
    "        break"
   ]
  },
  {
   "cell_type": "code",
   "execution_count": 31,
   "id": "4ee35640",
   "metadata": {},
   "outputs": [
    {
     "data": {
      "image/png": "[encoded data removed]",
      "text/plain": [
       "<Figure size 640x480 with 1 Axes>"
      ]
     },
     "metadata": {},
     "output_type": "display_data"
    }
   ],
   "source": [
    "# plt.title('Histogram of Ads Selection');\n",
    "plt.xlabel('Ads');\n",
    "plt.ylabel('frequency of Selection');\n",
    "plt.xticks(np.arange(0,10));\n",
    "plt.hist(ads_selected,bins=10,edgecolor='white');\n",
    "plt.gca().set_xticklabels(np.arange(1, 11)) \n",
    "plt.show();"
   ]
  },
  {
   "cell_type": "code",
   "execution_count": 32,
   "id": "e681d7bb",
   "metadata": {},
   "outputs": [
    {
     "name": "stdout",
     "output_type": "stream",
     "text": [
      "The ad with the highest clicking rate is ad 7 with 20 selections.\n"
     ]
    }
   ],
   "source": [
    "# Find the ad with the highest frequency\n",
    "ad_counts = np.bincount(ads_selected)\n",
    "max_ad_count = np.max(ad_counts)\n",
    "max_ad_index = np.argmax(ad_counts)\n",
    "\n",
    "print(f\"The ad with the highest clicking rate is ad {max_ad_index+1} with {max_ad_count} selections.\")"
   ]
  },
  {
   "cell_type": "code",
   "execution_count": null,
   "id": "59306a41",
   "metadata": {},
   "outputs": [],
   "source": []
  }
 ],
 "metadata": {
  "kernelspec": {
   "display_name": "Python 3 (ipykernel)",
   "language": "python",
   "name": "python3"
  },
  "language_info": {
   "codemirror_mode": {
    "name": "ipython",
    "version": 3
   },
   "file_extension": ".py",
   "mimetype": "text/x-python",
   "name": "python",
   "nbconvert_exporter": "python",
   "pygments_lexer": "ipython3",
   "version": "3.10.8"
  }
 },
 "nbformat": 4,
 "nbformat_minor": 5
}
